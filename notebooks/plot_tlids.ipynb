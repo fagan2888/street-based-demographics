{
 "cells": [
  {
   "cell_type": "code",
   "execution_count": null,
   "metadata": {},
   "outputs": [],
   "source": [
    "import sys\n",
    "import pandas as pd\n",
    "import matplotlib.pyplot as plt\n",
    "import seaborn as sns\n",
    "import geopandas as gpd\n",
    "import folium\n",
    "from shapely.geometry import Polygon\n",
    "from shapely import wkt\n",
    "\n",
    "sys.path.append('../')\n",
    "from scripts.match_tlid_geo import import_data\n",
    "from scripts.match_tlid import match_county_tlid\n",
    "\n",
    "# Plot figures inline\n",
    "plt.ion()"
   ]
  },
  {
   "cell_type": "code",
   "execution_count": null,
   "metadata": {},
   "outputs": [],
   "source": [
    "# Import Denver addresses and TIGER files\n",
    "geo_points, geo_edges = import_data(county_code='08031')\n",
    "geo_edges.TLID = geo_edges['TLID'].apply(str)\n",
    "tlid_xwalk = pd.read_csv(\"../results/address_tlid_xwalk/08031_tlid_match.csv\",\n",
    "                         converters={'TLID_match': lambda x: str(x)})\n",
    "\n",
    "tlid_geo_xwalk = pd.read_csv(\"../results/address_tlid_xwalk/08031_geo_match.csv\",\n",
    "                             converters={'TLID_match': lambda x: str(x)})\n",
    "crs = {'init': 'epsg:4269'}\n",
    "\n",
    "# Convert addresses to spatial object\n",
    "tlid_geo_xwalk['geometry'] = tlid_geo_xwalk['geometry'].apply(wkt.loads)\n",
    "addresses_geo_matched = gpd.GeoDataFrame(\n",
    "    tlid_geo_xwalk, crs=crs, geometry=tlid_geo_xwalk['geometry'])"
   ]
  },
  {
   "cell_type": "code",
   "execution_count": null,
   "metadata": {},
   "outputs": [],
   "source": [
    "# Merge address data with the xwalk\n",
    "addresses_matched = pd.merge(geo_points, tlid_xwalk,  how='left', left_on=[\n",
    "                             'MAFID'], right_on=['MAFID'])\n",
    "print(\"\\n\\nNon-geo results:\")\n",
    "print(addresses_matched.head())\n",
    "print(\"\\n\\nGeo results:\")\n",
    "print(addresses_geo_matched.head())\n",
    "print(\"\\n\\nEdges:\")\n",
    "print(geo_edges.head())"
   ]
  },
  {
   "cell_type": "code",
   "execution_count": null,
   "metadata": {},
   "outputs": [],
   "source": [
    "def validation_map(addresses, edges, tlid, fg):\n",
    "    \"\"\"\n",
    "    Creates a folium map layer of address points and linear features in the edges file.\n",
    "    Clips both datasets to the zoom boundary to allow map to more easily fit in memory.\n",
    "    Parameters\n",
    "    ----------\n",
    "    addresses: gpd DataFrame\n",
    "                contains point data of addresses\n",
    "    edges: gpd DataFrame\n",
    "            contains linear data, simplified or as downloaded from TIGER\n",
    "    tlid: str\n",
    "                TLID to group by -- will only plot points and lines with this TLID\n",
    "    fg: folium map group\n",
    "        named fg object to use to create layers\n",
    "\n",
    "    Returns\n",
    "    -------\n",
    "    fg: folium map group\n",
    "        map group of address points and edges lines, which can be added to a basemap\n",
    "    \"\"\"\n",
    "\n",
    "    # Extract relevant address points and the correct line\n",
    "    points_with_TLID = addresses.loc[addresses['TLID_match'] == tlid]\n",
    "    edge_with_TLID = edges.loc[edges['TLID'] == tlid]\n",
    "\n",
    "    # Interactive plots with Folium\n",
    "    edges_json = edge_with_TLID.to_crs(epsg='4326').to_json()\n",
    "    lines = folium.features.GeoJson(edges_json)\n",
    "    fg.add_child(lines)\n",
    "\n",
    "    addresses_json = points_with_TLID.to_crs(epsg='4326').to_json()\n",
    "    points = folium.features.GeoJson(addresses_json)\n",
    "    fg.add_child(points)\n",
    "\n",
    "    return fg"
   ]
  },
  {
   "cell_type": "markdown",
   "metadata": {},
   "source": [
    "## Map of points and lines organized by TLID"
   ]
  },
  {
   "cell_type": "code",
   "execution_count": null,
   "metadata": {},
   "outputs": [],
   "source": [
    "random_tlids = addresses_matched['TLID_match'].sample(n=30).dropna().tolist()\n",
    "\n",
    "# Import block data to check how well spatial join worked\n",
    "blocks = gpd.read_file(\n",
    "    \"../data/tiger_csv/den_tiger/08031_faces/tl_2017_08031_faces.shp\")\n",
    "\n",
    "# Create base map\n",
    "results_map = folium.Map([39.785, -104.83],\n",
    "                         zoom_start=14,\n",
    "                         tiles='cartodbpositron')\n",
    "\n",
    "\n",
    "# Loop through random TLIDs and create a map layer for the results of each\n",
    "for tlid in random_tlids:\n",
    "    fg = folium.FeatureGroup(name=tlid)\n",
    "    results_map.add_child(validation_map(\n",
    "        addresses_matched, geo_edges, tlid, fg))\n",
    "\n",
    "results_map.add_child(folium.LayerControl())\n",
    "results_map"
   ]
  },
  {
   "cell_type": "code",
   "execution_count": null,
   "metadata": {},
   "outputs": [],
   "source": [
    "# Create base map\n",
    "geo_results_map = folium.Map([39.785, -104.83],\n",
    "                             zoom_start=14,\n",
    "                             tiles='cartodbpositron')\n",
    "\n",
    "\n",
    "# Loop through random TLIDs and create a map layer for the results of each\n",
    "for tlid in random_tlids:\n",
    "    fg = folium.FeatureGroup(name=tlid)\n",
    "    geo_results_map.add_child(validation_map(\n",
    "        addresses_geo_matched, geo_edges, tlid, fg))\n",
    "\n",
    "geo_results_map.add_child(folium.LayerControl())\n",
    "geo_results_map"
   ]
  },
  {
   "cell_type": "code",
   "execution_count": null,
   "metadata": {},
   "outputs": [],
   "source": []
  }
 ],
 "metadata": {
  "kernelspec": {
   "display_name": "Python [conda env:earth-analytics-python]",
   "language": "python",
   "name": "conda-env-earth-analytics-python-py"
  },
  "language_info": {
   "codemirror_mode": {
    "name": "ipython",
    "version": 3
   },
   "file_extension": ".py",
   "mimetype": "text/x-python",
   "name": "python",
   "nbconvert_exporter": "python",
   "pygments_lexer": "ipython3",
   "version": "3.6.6"
  }
 },
 "nbformat": 4,
 "nbformat_minor": 2
}
